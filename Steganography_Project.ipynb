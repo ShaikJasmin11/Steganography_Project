{
 "cells": [
  {
   "cell_type": "code",
   "execution_count": 1,
   "id": "bd450c1f",
   "metadata": {},
   "outputs": [
    {
     "name": "stdout",
     "output_type": "stream",
     "text": [
      "Requirement already satisfied: pillow in c:\\users\\shaik\\appdata\\roaming\\python\\python312\\site-packages (11.1.0)\n"
     ]
    },
    {
     "name": "stderr",
     "output_type": "stream",
     "text": [
      "\n",
      "[notice] A new release of pip is available: 25.0.1 -> 25.1.1\n",
      "[notice] To update, run: python.exe -m pip install --upgrade pip\n"
     ]
    }
   ],
   "source": [
    "# Install Required Libraries\n",
    "\n",
    "!pip install pillow"
   ]
  },
  {
   "cell_type": "code",
   "execution_count": 2,
   "id": "dc5f1b21",
   "metadata": {},
   "outputs": [],
   "source": [
    "# Import Libraries\n",
    "\n",
    "\n",
    "from PIL import Image\n",
    "import numpy as np"
   ]
  },
  {
   "cell_type": "code",
   "execution_count": 3,
   "id": "7f272c35",
   "metadata": {},
   "outputs": [],
   "source": [
    "# ASCII XOR + LSB Steganography Functions\n",
    "\n",
    "\n",
    "def xor_encrypt(message, key):\n",
    "    return ''.join([chr(ord(c) ^ ord(key)) for c in message])\n",
    "\n",
    "def xor_decrypt(cipher_text, key):\n",
    "    return ''.join([chr(ord(c) ^ ord(key)) for c in cipher_text])\n",
    "\n",
    "def text_to_binary(text):\n",
    "    return ''.join(format(ord(char), '08b') for char in text)\n",
    "\n",
    "def binary_to_text(binary):\n",
    "    chars = [binary[i:i+8] for i in range(0, len(binary), 8)]\n",
    "    return ''.join([chr(int(char, 2)) for char in chars])"
   ]
  },
  {
   "cell_type": "code",
   "execution_count": 7,
   "id": "5cd216f6",
   "metadata": {},
   "outputs": [],
   "source": [
    "# Encode Message into Image using LSB\n",
    "\n",
    "\n",
    "def encode_lsb(image_path, message, key, output_path):\n",
    "    img = Image.open(image_path).convert(\"RGB\")  # force RGB mode\n",
    "    encoded = img.copy()\n",
    "    width, height = img.size\n",
    "\n",
    "    message = xor_encrypt(message, key)\n",
    "    binary_msg = text_to_binary(message) + '1111111111111110'  # End delimiter\n",
    "\n",
    "    data_index = 0\n",
    "    for y in range(height):\n",
    "        for x in range(width):\n",
    "            if data_index < len(binary_msg):\n",
    "                pixel = list(encoded.getpixel((x, y)))\n",
    "                for n in range(3):  # R, G, B\n",
    "                    if data_index < len(binary_msg):\n",
    "                        pixel[n] = pixel[n] & ~1 | int(binary_msg[data_index])\n",
    "                        data_index += 1\n",
    "                encoded.putpixel((x, y), tuple(pixel))\n",
    "\n",
    "    encoded.save(output_path)\n",
    "    print(\"✅ Message encoded and saved as\", output_path)\n"
   ]
  },
  {
   "cell_type": "code",
   "execution_count": 8,
   "id": "b8440704",
   "metadata": {},
   "outputs": [],
   "source": [
    "# Decode Hidden Message from Image\n",
    "\n",
    "\n",
    "def decode_lsb(stego_image_path, key):\n",
    "    img = Image.open(stego_image_path).convert(\"RGB\")\n",
    "    binary_data = \"\"\n",
    "    for y in range(img.size[1]):\n",
    "        for x in range(img.size[0]):\n",
    "            pixel = img.getpixel((x, y))\n",
    "            for n in range(3):\n",
    "                binary_data += str(pixel[n] & 1)\n",
    "\n",
    "    all_bytes = [binary_data[i:i+8] for i in range(0, len(binary_data), 8)]\n",
    "    decoded_chars = []\n",
    "    for byte in all_bytes:\n",
    "        if byte == '11111110':  # End delimiter\n",
    "            break\n",
    "        decoded_chars.append(chr(int(byte, 2)))\n",
    "\n",
    "    decrypted = xor_decrypt(''.join(decoded_chars), key)\n",
    "    return decrypted\n"
   ]
  },
  {
   "cell_type": "code",
   "execution_count": 9,
   "id": "9e9c4ba5",
   "metadata": {},
   "outputs": [
    {
     "name": "stdout",
     "output_type": "stream",
     "text": [
      "✅ Message encoded and saved as stego_image.png\n",
      "🔓 Decoded Message: Hello Jasmin, your internship is on point!´\n"
     ]
    }
   ],
   "source": [
    "# Testing\n",
    "\n",
    "\n",
    "message = \"Hello Jasmin, your internship is on point!\"\n",
    "key = \"K\"\n",
    "\n",
    "encode_lsb(\"image.png\", message, key, \"stego_image.png\")\n",
    "decoded = decode_lsb(\"stego_image.png\", key)\n",
    "print(\"🔓 Decoded Message:\", decoded)\n",
    "\n"
   ]
  }
 ],
 "metadata": {
  "kernelspec": {
   "display_name": "base",
   "language": "python",
   "name": "python3"
  },
  "language_info": {
   "codemirror_mode": {
    "name": "ipython",
    "version": 3
   },
   "file_extension": ".py",
   "mimetype": "text/x-python",
   "name": "python",
   "nbconvert_exporter": "python",
   "pygments_lexer": "ipython3",
   "version": "3.12.7"
  }
 },
 "nbformat": 4,
 "nbformat_minor": 5
}
